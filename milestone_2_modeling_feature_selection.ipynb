{
 "cells": [
  {
   "cell_type": "code",
   "execution_count": 1,
   "metadata": {},
   "outputs": [],
   "source": [
    "import numpy as np\n",
    "import pandas as pd\n",
    "from sklearn.linear_model import BayesianRidge, LinearRegression, ElasticNet, Ridge, Lasso, LogisticRegression\n",
    "from sklearn import tree\n",
    "from sklearn.ensemble import RandomForestRegressor, RandomForestClassifier\n",
    "from sklearn.ensemble import GradientBoostingRegressor\n",
    "from sklearn.neighbors import KNeighborsRegressor\n",
    "from sklearn.metrics import mean_absolute_error, precision_score\n",
    "from tqdm import tqdm\n",
    "import copy\n",
    "\n",
    "from utils_milestone2 import get_numeric_non_infinite_cols, add_pca_cols, scale_train_test, pca_train_test, run_model, \\\n",
    "feature_engineering, threshold_precision, full_and_threshold_scoring, pred_to_clf_pred, load_data\n"
   ]
  },
  {
   "cell_type": "code",
   "execution_count": 2,
   "metadata": {},
   "outputs": [],
   "source": [
    "Run_Feature_Selection = True\n",
    "model_type=\"classification\""
   ]
  },
  {
   "cell_type": "markdown",
   "metadata": {},
   "source": [
    "### Load the Data"
   ]
  },
  {
   "cell_type": "code",
   "execution_count": 3,
   "metadata": {},
   "outputs": [
    {
     "name": "stdout",
     "output_type": "stream",
     "text": [
      "Wall time: 2.32 s\n"
     ]
    }
   ],
   "source": [
    "%%time\n",
    "X_train, y_train, X_test, y_test, X_val = load_data()"
   ]
  },
  {
   "cell_type": "code",
   "execution_count": 4,
   "metadata": {},
   "outputs": [
    {
     "name": "stdout",
     "output_type": "stream",
     "text": [
      "X_train shape (221122, 1105)\n",
      "y_train shape (221122,)\n",
      "X_test shape (32257, 1105)\n",
      "y_test shape (32257,)\n"
     ]
    }
   ],
   "source": [
    "print(\"X_train shape\", X_train.shape)\n",
    "print(\"y_train shape\", y_train.shape)\n",
    "print(\"X_test shape\", X_test.shape)\n",
    "print(\"y_test shape\", y_test.shape)"
   ]
  },
  {
   "cell_type": "markdown",
   "metadata": {},
   "source": [
    "### Data Preprocessing\n",
    "Check there are no nulls"
   ]
  },
  {
   "cell_type": "code",
   "execution_count": 5,
   "metadata": {},
   "outputs": [
    {
     "data": {
      "text/plain": [
       "[]"
      ]
     },
     "execution_count": 5,
     "metadata": {},
     "output_type": "execute_result"
    }
   ],
   "source": [
    "is_NaN = X_train.isnull()\n",
    "col_has_NaN = is_NaN.any(axis=0)\n",
    "col_has_NaN = col_has_NaN.loc[col_has_NaN==True].index.to_list()\n",
    "col_has_NaN"
   ]
  },
  {
   "cell_type": "markdown",
   "metadata": {},
   "source": [
    "Identify numeric columns"
   ]
  },
  {
   "cell_type": "code",
   "execution_count": 6,
   "metadata": {},
   "outputs": [],
   "source": [
    "X_train_numeric = X_train._get_numeric_data()"
   ]
  },
  {
   "cell_type": "markdown",
   "metadata": {},
   "source": [
    "Drop columns that contain infinity or negative infinity"
   ]
  },
  {
   "cell_type": "code",
   "execution_count": 7,
   "metadata": {},
   "outputs": [
    {
     "data": {
      "text/plain": [
       "['volume_adi', 'trend_vortex_ind_pos', 'trend_vortex_ind_neg']"
      ]
     },
     "execution_count": 7,
     "metadata": {},
     "output_type": "execute_result"
    }
   ],
   "source": [
    "col_has_inf = X_train_numeric.columns.to_series()[np.isinf(X_train_numeric).any()].to_list()\n",
    "col_has_inf"
   ]
  },
  {
   "cell_type": "code",
   "execution_count": 8,
   "metadata": {},
   "outputs": [],
   "source": [
    "X_train_numeric = X_train_numeric.drop(col_has_inf, axis=1)"
   ]
  },
  {
   "cell_type": "code",
   "execution_count": 9,
   "metadata": {},
   "outputs": [],
   "source": [
    "cols = X_train_numeric.columns.to_list()\n",
    "X_test_numeric = X_test[cols]"
   ]
  },
  {
   "cell_type": "markdown",
   "metadata": {},
   "source": [
    "Classify train examples as 1 if the price went up otherwise 0."
   ]
  },
  {
   "cell_type": "code",
   "execution_count": 10,
   "metadata": {},
   "outputs": [],
   "source": [
    "y_train_clf = pred_to_clf_pred(y_train, threshold=1)\n",
    "y_test_clf = pred_to_clf_pred(y_test, threshold=1)"
   ]
  },
  {
   "cell_type": "markdown",
   "metadata": {},
   "source": [
    "Create a naive benchmark where everything is predicted to go up."
   ]
  },
  {
   "cell_type": "code",
   "execution_count": 11,
   "metadata": {},
   "outputs": [],
   "source": [
    "y_all_up_train = [1] * len(y_train_clf)\n",
    "y_all_up_test = [1] * len(y_test_clf)"
   ]
  },
  {
   "cell_type": "markdown",
   "metadata": {},
   "source": [
    "### Calculate Benchmark Scores"
   ]
  },
  {
   "cell_type": "code",
   "execution_count": 12,
   "metadata": {},
   "outputs": [],
   "source": [
    "benchmark_precision_train_score = precision_score(y_train_clf, y_all_up_train)\n",
    "benchmark_precision_test_score = precision_score(y_test_clf, y_all_up_test)\n",
    "benchmark_return_train = np.mean(y_train) - 1\n",
    "benchmark_return_test = np.mean(y_test) - 1"
   ]
  },
  {
   "cell_type": "code",
   "execution_count": 13,
   "metadata": {},
   "outputs": [],
   "source": [
    "def print_benchmarks():\n",
    "    print(\"Benchmark figures over 20 day prediction horizon:\")\n",
    "    print(\"benchmark precision train:\", round(benchmark_precision_train_score,5))\n",
    "    print(\"benchmark precision test:\", round(benchmark_precision_test_score,5))\n",
    "    print(\"benchmark return train:\", round(benchmark_return_train,5))\n",
    "    print(\"benchmark return test:\", round(benchmark_return_test,5))"
   ]
  },
  {
   "cell_type": "code",
   "execution_count": 14,
   "metadata": {},
   "outputs": [
    {
     "name": "stdout",
     "output_type": "stream",
     "text": [
      "Benchmark figures over 20 day prediction horizon:\n",
      "benchmark precision train: 0.53814\n",
      "benchmark precision test: 0.5835\n",
      "benchmark return train: 0.005\n",
      "benchmark return test: 0.02214\n"
     ]
    }
   ],
   "source": [
    "print_benchmarks()"
   ]
  },
  {
   "cell_type": "markdown",
   "metadata": {},
   "source": [
    "This is the benchmark precision if we predict everything goes up. Now we will test the precision of our model. We can see that market conditions in the test period were noticeably different to the training period as stocks were going up a lot more frequently over 20 day trading horizons."
   ]
  },
  {
   "cell_type": "markdown",
   "metadata": {},
   "source": [
    "### Engineering Features\n",
    "Given the large number of features already generated and retrieved, it is not clear how much feature engineering will add. However, we will at least generate features that demonstrate when volume is above average as in the financial domain, price moves are widely thought to be more meaningful and likely to continue when accompanied by heavy volume."
   ]
  },
  {
   "cell_type": "code",
   "execution_count": 15,
   "metadata": {},
   "outputs": [
    {
     "name": "stderr",
     "output_type": "stream",
     "text": [
      "C:\\Users\\micha\\mads\\milestone-II-stock-predictions\\utils_milestone2.py:87: SettingWithCopyWarning: \n",
      "A value is trying to be set on a copy of a slice from a DataFrame.\n",
      "Try using .loc[row_indexer,col_indexer] = value instead\n",
      "\n",
      "See the caveats in the documentation: https://pandas.pydata.org/pandas-docs/stable/user_guide/indexing.html#returning-a-view-versus-a-copy\n",
      "  df['Volume_over_Volume_MA50'] = df['Volume'] / df['Volume_MA50']\n",
      "C:\\Users\\micha\\mads\\milestone-II-stock-predictions\\utils_milestone2.py:88: SettingWithCopyWarning: \n",
      "A value is trying to be set on a copy of a slice from a DataFrame.\n",
      "Try using .loc[row_indexer,col_indexer] = value instead\n",
      "\n",
      "See the caveats in the documentation: https://pandas.pydata.org/pandas-docs/stable/user_guide/indexing.html#returning-a-view-versus-a-copy\n",
      "  df['Volume_over_Volume_MA200'] = df['Volume'] / df['Volume_MA200']\n",
      "C:\\Users\\micha\\mads\\milestone-II-stock-predictions\\utils_milestone2.py:89: SettingWithCopyWarning: \n",
      "A value is trying to be set on a copy of a slice from a DataFrame.\n",
      "Try using .loc[row_indexer,col_indexer] = value instead\n",
      "\n",
      "See the caveats in the documentation: https://pandas.pydata.org/pandas-docs/stable/user_guide/indexing.html#returning-a-view-versus-a-copy\n",
      "  df['Volume_MA50_over_Volume_MA200'] = df['Volume_MA50'] / df['Volume_MA200']\n"
     ]
    }
   ],
   "source": [
    "X_train_numeric = feature_engineering(X_train_numeric)\n",
    "X_test_numeric = feature_engineering(X_test_numeric)"
   ]
  },
  {
   "cell_type": "markdown",
   "metadata": {},
   "source": [
    "### Optional Scaling and Normalization"
   ]
  },
  {
   "cell_type": "code",
   "execution_count": 16,
   "metadata": {},
   "outputs": [
    {
     "name": "stdout",
     "output_type": "stream",
     "text": [
      "Wall time: 6.16 s\n"
     ]
    }
   ],
   "source": [
    "%%time\n",
    "X_train_numeric_scaled, X_test_numeric_scaled = scale_train_test(X_train_numeric, X_test_numeric)"
   ]
  },
  {
   "cell_type": "code",
   "execution_count": 17,
   "metadata": {},
   "outputs": [
    {
     "name": "stdout",
     "output_type": "stream",
     "text": [
      "Total Explained 0.9992301541002819\n",
      "Wall time: 19.3 s\n"
     ]
    }
   ],
   "source": [
    "%%time\n",
    "X_train_pca, X_test_pca = pca_train_test(X_train_numeric_scaled, X_test_numeric_scaled, num_components=200, random_state=2021)"
   ]
  },
  {
   "cell_type": "code",
   "execution_count": 18,
   "metadata": {},
   "outputs": [
    {
     "name": "stdout",
     "output_type": "stream",
     "text": [
      "Wall time: 1.37 s\n"
     ]
    }
   ],
   "source": [
    "%%time\n",
    "X_train_numeric_plus_pca = add_pca_cols(X_train_numeric, X_train_pca)\n",
    "X_test_numeric_plus_pca = add_pca_cols(X_test_numeric, X_test_pca)"
   ]
  },
  {
   "cell_type": "markdown",
   "metadata": {},
   "source": [
    "### Feature Selection\n",
    "We saw in the earlier notebook that modeling with just a few features achieved better results than using all 1000+ features. Here we will start with a tiny number of features and iteratively try adding (& later dropping) features to improve model performance."
   ]
  },
  {
   "cell_type": "code",
   "execution_count": 19,
   "metadata": {},
   "outputs": [],
   "source": [
    "cols = X_train_numeric_plus_pca.columns.to_list()#[::-1]"
   ]
  },
  {
   "cell_type": "code",
   "execution_count": 20,
   "metadata": {},
   "outputs": [],
   "source": [
    "selected_cols = ['SR', 'ROCE_TTM_pct', 'Price_to_FCF_TTM', 'MACDSIGNAL_55', 'trend_ema_slow', 'others_dlr']\n",
    "#selected_cols = ['SR', 'ROCE_TTM_pct', 'Price_to_FCF_TTM', 'MACDSIGNAL_55', 'trend_ema_slow', 'others_dlr', 'Open', 'Volume', 'Sales_Growth_TTM_pct', 'volume_vpt']"
   ]
  },
  {
   "cell_type": "code",
   "execution_count": 21,
   "metadata": {},
   "outputs": [],
   "source": [
    "default_precision_test = 0\n",
    "default_precision_train = 0\n",
    "default_return_test = 0\n",
    "default_return_train = 0"
   ]
  },
  {
   "cell_type": "code",
   "execution_count": 22,
   "metadata": {},
   "outputs": [
    {
     "data": {
      "text/plain": [
       "['SR',\n",
       " 'ROCE_TTM_pct',\n",
       " 'Price_to_FCF_TTM',\n",
       " 'MACDSIGNAL_55',\n",
       " 'trend_ema_slow',\n",
       " 'others_dlr',\n",
       " 'Sector_Basic Materials',\n",
       " 'Sector_Consumer Cyclicals',\n",
       " 'Sector_Consumer Defensives',\n",
       " 'Sector_Energy',\n",
       " 'Sector_Financials',\n",
       " 'Sector_Healthcare',\n",
       " 'Sector_Industrials',\n",
       " 'Sector_Technology',\n",
       " 'Sector_Telecoms',\n",
       " 'Sector_Utilities']"
      ]
     },
     "execution_count": 22,
     "metadata": {},
     "output_type": "execute_result"
    }
   ],
   "source": [
    "cols_to_search = copy.deepcopy(cols)\n",
    "cols_to_search = ['SR', 'ROCE_TTM_pct', 'Price_to_FCF_TTM', 'MACDSIGNAL_55', 'trend_ema_slow', 'others_dlr'] + ['Sector_Basic Materials',\n",
    " 'Sector_Consumer Cyclicals',\n",
    " 'Sector_Consumer Defensives',\n",
    " 'Sector_Energy',\n",
    " 'Sector_Financials',\n",
    " 'Sector_Healthcare',\n",
    " 'Sector_Industrials',\n",
    " 'Sector_Technology',\n",
    " 'Sector_Telecoms',\n",
    " 'Sector_Utilities']\n",
    "cols_to_search"
   ]
  },
  {
   "cell_type": "code",
   "execution_count": 23,
   "metadata": {},
   "outputs": [
    {
     "name": "stderr",
     "output_type": "stream",
     "text": [
      "100%|██████████████████████████████████████████████████████████████████████████████████| 16/16 [00:47<00:00,  3.00s/it]\n",
      "  0%|                                                                                           | 0/16 [00:00<?, ?it/s]"
     ]
    },
    {
     "name": "stdout",
     "output_type": "stream",
     "text": [
      "train return at default 0.00581 test return at default 0.02206\n",
      "##################################################################\n",
      "['ROCE_TTM_pct', 'Price_to_FCF_TTM', 'MACDSIGNAL_55', 'trend_ema_slow', 'others_dlr']\n"
     ]
    },
    {
     "name": "stderr",
     "output_type": "stream",
     "text": [
      "100%|██████████████████████████████████████████████████████████████████████████████████| 16/16 [00:47<00:00,  2.95s/it]"
     ]
    },
    {
     "name": "stdout",
     "output_type": "stream",
     "text": [
      "train return at default 0.00581 test return at default 0.02206\n",
      "##################################################################\n",
      "['ROCE_TTM_pct', 'Price_to_FCF_TTM', 'MACDSIGNAL_55', 'trend_ema_slow', 'others_dlr']\n",
      "early stopping no improvement\n",
      "Wall time: 1min 35s\n"
     ]
    },
    {
     "name": "stderr",
     "output_type": "stream",
     "text": [
      "\n"
     ]
    }
   ],
   "source": [
    "%%time\n",
    "\n",
    "loop_best = 0\n",
    "if Run_Feature_Selection:\n",
    "    for a in range(20): # later loops give a chance to drop features that were useful originally but are not useful with the latest best feature set   \n",
    "        for c in tqdm(cols_to_search):\n",
    "            current_selection = copy.deepcopy(selected_cols)\n",
    "            if c in current_selection and len(current_selection) > 1:\n",
    "                current_selection = [x for x in current_selection if x!=c]#.remove(c)\n",
    "            else:\n",
    "                current_selection.append(c)\n",
    "\n",
    "            train_scores, test_scores = run_model(current_selection, X_train_numeric_plus_pca, X_test_numeric_plus_pca, y_train, y_test, model_type=model_type)\n",
    "\n",
    "            if test_scores['default_return'] > default_return_test and train_scores['default_return'] > default_return_train:\n",
    "                default_return_test = test_scores['default_return']\n",
    "                default_return_train = train_scores['default_return']\n",
    "                selected_cols = copy.deepcopy(current_selection)\n",
    "\n",
    "        print(\"train return at default\", default_return_train, \"test return at default\", default_return_test)\n",
    "        print(\"##################################################################\")\n",
    "        print(selected_cols)\n",
    "\n",
    "        if loop_best==default_return_test:\n",
    "            print(\"early stopping no improvement\")\n",
    "            break\n",
    "        loop_best=default_return_test\n",
    "\n",
    "    "
   ]
  },
  {
   "cell_type": "markdown",
   "metadata": {},
   "source": [
    "### Final Model Run\n",
    "With our selected features we can run the final model."
   ]
  },
  {
   "cell_type": "code",
   "execution_count": 24,
   "metadata": {},
   "outputs": [],
   "source": [
    "train_scores, test_scores = run_model(selected_cols, X_train_numeric_plus_pca, X_test_numeric_plus_pca, y_train, y_test, model_type=model_type)"
   ]
  },
  {
   "cell_type": "code",
   "execution_count": 25,
   "metadata": {},
   "outputs": [
    {
     "name": "stdout",
     "output_type": "stream",
     "text": [
      "Benchmark figures over 20 day prediction horizon:\n",
      "benchmark precision train: 0.53814\n",
      "benchmark precision test: 0.5835\n",
      "benchmark return train: 0.005\n",
      "benchmark return test: 0.02214\n",
      "train scores: {'default_precision': 0.5424, 'default_return': 0.00581, 'threshold_precision': 0.66211, 'threshold_return': 0.0403}\n",
      "test scores: {'default_precision': 0.58404, 'default_return': 0.02206, 'threshold_precision': 0.64764, 'threshold_return': 0.03728}\n"
     ]
    }
   ],
   "source": [
    "print_benchmarks()\n",
    "print(\"train scores:\", train_scores)\n",
    "print(\"test scores:\", test_scores)"
   ]
  },
  {
   "cell_type": "markdown",
   "metadata": {},
   "source": [
    "### Next Steps\n",
    "Feature Selection and Feature Engineering"
   ]
  },
  {
   "cell_type": "code",
   "execution_count": null,
   "metadata": {},
   "outputs": [],
   "source": []
  }
 ],
 "metadata": {
  "kernelspec": {
   "display_name": "Python 3",
   "language": "python",
   "name": "python3"
  },
  "language_info": {
   "codemirror_mode": {
    "name": "ipython",
    "version": 3
   },
   "file_extension": ".py",
   "mimetype": "text/x-python",
   "name": "python",
   "nbconvert_exporter": "python",
   "pygments_lexer": "ipython3",
   "version": "3.7.7"
  }
 },
 "nbformat": 4,
 "nbformat_minor": 4
}
